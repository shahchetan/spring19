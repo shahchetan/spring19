{
 "cells": [
  {
   "cell_type": "markdown",
   "metadata": {},
   "source": [
    "# FNN  Implementation"
   ]
  },
  {
   "cell_type": "code",
   "execution_count": 1,
   "metadata": {},
   "outputs": [],
   "source": [
    "import numpy as np\n",
    "import h5py\n",
    "import matplotlib.pyplot as plt\n",
    "\n",
    "%matplotlib inline\n",
    "plt.rcParams['figure.figsize'] = (5.0, 4.0) # set default size of plots\n",
    "plt.rcParams['image.interpolation'] = 'nearest'\n",
    "plt.rcParams['image.cmap'] = 'gray'\n",
    "\n",
    "%load_ext autoreload\n",
    "%autoreload 2\n",
    "\n",
    "np.random.seed(1)"
   ]
  },
  {
   "cell_type": "code",
   "execution_count": 2,
   "metadata": {},
   "outputs": [],
   "source": [
    "# Load dataset from hdf5 file\n",
    "def load_dataset(database_path):\n",
    "    # open dataset\n",
    "    dataset_db = h5py.File(database_path, \"r\")\n",
    "    datasets = {}\n",
    "    for dataset in [\"train\", \"dev\", \"test\"]:\n",
    "        # load the train set feautres (picuture)\n",
    "        datasets[dataset] = {'X' : np.array(dataset_db[dataset + \"_img\"][:]),  # dataset features\n",
    "                             'Y' : np.array(dataset_db[dataset + \"_labels\"][:]) # dataset labels\n",
    "                            }\n",
    "    return datasets"
   ]
  },
  {
   "cell_type": "markdown",
   "metadata": {},
   "source": [
    "### 1. Data normalization and flattening"
   ]
  },
  {
   "cell_type": "code",
   "execution_count": 3,
   "metadata": {},
   "outputs": [
    {
     "name": "stdout",
     "output_type": "stream",
     "text": [
      "train_set_x_flatten shape: (12288, 517)\n",
      "train_set_y shape: (1, 517)\n",
      "dev_test_set_x_flatten shape: (12288, 172)\n",
      "dev_test_set_y shape: (1, 172)\n",
      "test_set_x_flatten shape: (12288, 173)\n",
      "test_set_y shape: (1, 173)\n"
     ]
    }
   ],
   "source": [
    "car_dataset = load_dataset('car_dataset.hdf5')\n",
    "\n",
    "train_set_x_orig = np.array(car_dataset[\"train\"]['X'][:])\n",
    "train_set_y_orig = np.array(car_dataset[\"train\"]['Y'][:])\n",
    "\n",
    "dev_test_set_x_orig = np.array(car_dataset[\"dev\"]['X'][:]) \n",
    "dev_test_set_y_orig = np.array(car_dataset[\"dev\"]['Y'][:]) \n",
    "\n",
    "train_set_y = train_set_y_orig.reshape((1, train_set_y_orig.shape[0]))\n",
    "dev_test_set_y = dev_test_set_y_orig.reshape((1, dev_test_set_y_orig.shape[0]))\n",
    "\n",
    "train_set_x_flatten = train_set_x_orig.reshape(train_set_x_orig.shape[0], -1).T \n",
    "dev_test_set_x_flatten = dev_test_set_x_orig.reshape(dev_test_set_x_orig.shape[0], -1).T \n",
    "\n",
    "train_set_x = train_set_x_flatten/255.\n",
    "dev_test_set_x = dev_test_set_x_flatten/255.\n",
    "\n",
    "print (\"train_set_x_flatten shape: \" + str(train_set_x.shape))\n",
    "print (\"train_set_y shape: \" + str(train_set_y.shape))\n",
    "print (\"dev_test_set_x_flatten shape: \" + str(dev_test_set_x.shape))\n",
    "print (\"dev_test_set_y shape: \" + str(dev_test_set_y.shape))\n",
    "\n",
    "test_set_x_orig = np.array(car_dataset[\"test\"]['X'][:]) # your test set features\n",
    "test_set_y_orig = np.array(car_dataset[\"test\"]['Y'][:]) # your test set labels\n",
    "\n",
    "test_set_y = test_set_y_orig.reshape((1, test_set_y_orig.shape[0]))\n",
    "\n",
    "test_set_x_flatten = test_set_x_orig.reshape(test_set_x_orig.shape[0], -1).T \n",
    "test_set_x = test_set_x_flatten/255.\n",
    "\n",
    "print (\"test_set_x_flatten shape: \" + str(test_set_x.shape))\n",
    "print (\"test_set_y shape: \" + str(test_set_y.shape))"
   ]
  },
  {
   "cell_type": "code",
   "execution_count": 4,
   "metadata": {},
   "outputs": [
    {
     "data": {
      "text/plain": [
       "<matplotlib.image.AxesImage at 0x115365ac8>"
      ]
     },
     "execution_count": 4,
     "metadata": {},
     "output_type": "execute_result"
    },
    {
     "data": {
      "image/png": "[encoded data removed]",
      "text/plain": [
       "<Figure size 432x288 with 1 Axes>"
      ]
     },
     "metadata": {
      "needs_background": "light"
     },
     "output_type": "display_data"
    }
   ],
   "source": [
    "# Example Car Image in the dataset\n",
    "index = 21\n",
    "plt.imshow(train_set_x_orig[index])"
   ]
  },
  {
   "cell_type": "markdown",
   "metadata": {},
   "source": [
    "## 2. Logistic Regression Implementation"
   ]
  },
  {
   "cell_type": "code",
   "execution_count": 5,
   "metadata": {},
   "outputs": [],
   "source": [
    "def sigmoid(z):\n",
    "    return 1/(1+np.exp(-z))\n",
    "\n",
    "\n",
    "def initialize_with_zeros(dim):\n",
    "    w = np.zeros((dim,1))\n",
    "    b = 0\n",
    "    return w,b\n",
    "\n",
    "\n",
    "def forward_propagate(w,b,X,Y):\n",
    "    m = X.shape[1]  \n",
    "    Z = np.dot(w.T,X) + b\n",
    "    A = sigmoid(Z)     #  activation\n",
    "    cost = (-1/m) * np.sum(Y*np.log(A) + (1-Y)*np.log(1-A)) \n",
    "    cost = np.squeeze(cost)\n",
    "    assert(cost.shape == ())\n",
    "    return A, cost\n",
    "\n",
    "\n",
    "def backward_propagate(A, X, Y):\n",
    "    m= X.shape[1]\n",
    "    dZ = A - Y\n",
    "   \n",
    "    dw = 1/m * np.matmul(X, dZ.T)\n",
    "    db = 1/m * np.sum(dZ)\n",
    "    \n",
    "    grads = {\"dw\": dw,\n",
    "             \"db\": db} \n",
    "    \n",
    "    return grads\n",
    "\n",
    "def optimize(w, b, X, Y, num_iterations, learning_rate, print_cost = False):\n",
    "    \n",
    "    costs = []\n",
    "    \n",
    "    for i in range(num_iterations):\n",
    "        \n",
    "        A, cost = forward_propagate(w, b, X, Y)\n",
    "        grads = backward_propagate(A, X, Y)\n",
    "        \n",
    "        dw = grads[\"dw\"] \n",
    "        db = grads[\"db\"]         \n",
    "        w = w - learning_rate * dw\n",
    "        b = b - learning_rate * db\n",
    "        \n",
    "        if i % 100 == 0:\n",
    "            costs.append(cost)\n",
    "        \n",
    "        if print_cost and i % 100 == 0:\n",
    "            print (\"Cost after iteration %i: %f\" %(i, cost))\n",
    "    \n",
    "    params = {\"w\": w,\n",
    "              \"b\": b}\n",
    "    \n",
    "    grads = {\"dw\": dw,\n",
    "             \"db\": db}\n",
    "    \n",
    "    return params, grads, costs\n",
    "\n",
    "def predict(w, b, X):\n",
    "    \n",
    "    m = X.shape[1]\n",
    "    Y_prediction = np.zeros((1,m))\n",
    "    w = w.reshape(X.shape[0],1)\n",
    "    \n",
    "    A = sigmoid(np.dot(w.T,X) + b)\n",
    "    \n",
    "    for i in range(A.shape[1]):\n",
    "        \n",
    "        Y_prediction[0][i] = 1 if A[0][i]>0.5 else 0\n",
    "        \n",
    "    assert(Y_prediction.shape == (1, m))\n",
    "    return Y_prediction\n",
    "    \n",
    "def model(X_train, Y_train, X_test, Y_test, num_iterations = 2000, learning_rate = 0.5, print_cost = False):\n",
    "       \n",
    "    w, b = initialize_with_zeros(X_train.shape[0])\n",
    "\n",
    "    # Gradient descent \n",
    "    parameters, grads, costs = optimize(w, b, X_train, Y_train, num_iterations, learning_rate, print_cost = print_cost)\n",
    "    \n",
    "    w = parameters['w']\n",
    "    b = parameters['b']\n",
    "\n",
    "    Y_prediction_test = predict(w,b,X_test)\n",
    "    Y_prediction_train = predict(w,b,X_train)\n",
    "\n",
    "    print(\"train accuracy: {} %\".format(100 - np.mean(np.abs(Y_prediction_train - Y_train)) * 100))\n",
    "    print(\"test accuracy: {} %\".format(100 - np.mean(np.abs(Y_prediction_test - Y_test)) * 100))\n",
    "\n",
    "    \n",
    "    d = {\"costs\": costs,\n",
    "         \"Y_prediction_test\": Y_prediction_test, \n",
    "         \"Y_prediction_train\" : Y_prediction_train, \n",
    "         \"w\" : w, \n",
    "         \"b\" : b,\n",
    "         \"learning_rate\" : learning_rate,\n",
    "         \"num_iterations\": num_iterations}\n",
    "    \n",
    "    return d"
   ]
  },
  {
   "cell_type": "code",
   "execution_count": 6,
   "metadata": {},
   "outputs": [
    {
     "name": "stdout",
     "output_type": "stream",
     "text": [
      "Cost and accuracy calculations for training and dev datasets\n",
      "\n",
      "\n",
      "Cost after iteration 0: 0.693147\n",
      "Cost after iteration 100: 0.348325\n",
      "Cost after iteration 200: 0.293235\n",
      "Cost after iteration 300: 0.263346\n",
      "Cost after iteration 400: 0.242531\n",
      "Cost after iteration 500: 0.226353\n",
      "Cost after iteration 600: 0.213014\n",
      "Cost after iteration 700: 0.201614\n",
      "Cost after iteration 800: 0.191640\n",
      "Cost after iteration 900: 0.182771\n",
      "Cost after iteration 1000: 0.174791\n",
      "Cost after iteration 1100: 0.167547\n",
      "Cost after iteration 1200: 0.160925\n",
      "Cost after iteration 1300: 0.154839\n",
      "Cost after iteration 1400: 0.149219\n",
      "Cost after iteration 1500: 0.144009\n",
      "Cost after iteration 1600: 0.139162\n",
      "Cost after iteration 1700: 0.134640\n",
      "Cost after iteration 1800: 0.130409\n",
      "Cost after iteration 1900: 0.126441\n",
      "train accuracy: 97.48549323017409 %\n",
      "test accuracy: 91.86046511627907 %\n"
     ]
    }
   ],
   "source": [
    "print(\"Cost and accuracy calculations for training and dev datasets\\n\\n\")\n",
    "d = model(train_set_x, train_set_y, dev_test_set_x, dev_test_set_y, num_iterations = 2000, learning_rate = 0.005, print_cost = True)"
   ]
  },
  {
   "cell_type": "code",
   "execution_count": 7,
   "metadata": {},
   "outputs": [
    {
     "data": {
      "image/png": "[encoded data removed]",
      "text/plain": [
       "<Figure size 432x288 with 1 Axes>"
      ]
     },
     "metadata": {
      "needs_background": "light"
     },
     "output_type": "display_data"
    }
   ],
   "source": [
    "# Plot learning curve (with costs) for part 1\n",
    "costs = np.squeeze(d['costs'])\n",
    "plt.plot(costs)\n",
    "plt.ylabel('cost')\n",
    "plt.xlabel('iterations (per hundreds)')\n",
    "plt.title(\"Learning rate =\" + str(d[\"learning_rate\"]))\n",
    "plt.show()"
   ]
  },
  {
   "cell_type": "code",
   "execution_count": 20,
   "metadata": {},
   "outputs": [
    {
     "name": "stdout",
     "output_type": "stream",
     "text": [
      "Accuracy calculations for training and test datasets\n",
      "\n",
      "\n",
      "train accuracy: 97.48549323017409 %\n",
      "test accuracy: 89.59537572254335 %\n"
     ]
    }
   ],
   "source": [
    "print(\"Accuracy calculations for training and test datasets\\n\\n\")\n",
    "d = model(train_set_x, train_set_y, test_set_x, test_set_y, num_iterations = 2000, learning_rate = 0.005, print_cost = False)"
   ]
  },
  {
   "cell_type": "code",
   "execution_count": null,
   "metadata": {},
   "outputs": [],
   "source": []
  },
  {
   "cell_type": "markdown",
   "metadata": {},
   "source": [
    "## 3. Deep NN implementation"
   ]
  },
  {
   "cell_type": "code",
   "execution_count": 12,
   "metadata": {},
   "outputs": [],
   "source": [
    "# Helper functions for FNN\n",
    "\n",
    "def update_parameters(parameters, grads, learning_rate):\n",
    "    L = len(parameters) // 2 \n",
    "    for l in range(L):\n",
    "        parameters[\"W\" + str(l+1)] = parameters[\"W\" + str(l+1)] - learning_rate * grads[\"dW\" + str(l+1)]\n",
    "        parameters[\"b\" + str(l+1)] = parameters[\"b\" + str(l+1)] - learning_rate * grads[\"db\" + str(l+1)]\n",
    "        \n",
    "    return parameters\n",
    "\n",
    "def linear_backward(dZ, cache):\n",
    "    A_prev, W, b = cache\n",
    "    m = A_prev.shape[1]\n",
    "\n",
    "    dW = 1./m * np.dot(dZ,A_prev.T)\n",
    "    db = 1./m * np.sum(dZ, axis = 1, keepdims = True)\n",
    "    dA_prev = np.dot(W.T,dZ)\n",
    "    \n",
    "    assert (dA_prev.shape == A_prev.shape)\n",
    "    assert (dW.shape == W.shape)\n",
    "    assert (db.shape == b.shape)\n",
    "    \n",
    "    return dA_prev, dW, db\n",
    "\n",
    "def linear_activation_backward(dA, cache, activation):\n",
    "    linear_cache, activation_cache = cache\n",
    "    \n",
    "    if activation == \"relu\":\n",
    "        dZ = relu_backward(dA, activation_cache)\n",
    "        dA_prev, dW, db = linear_backward(dZ, linear_cache)\n",
    "        \n",
    "    elif activation == \"sigmoid\":\n",
    "        dZ = sigmoid_backward(dA, activation_cache)\n",
    "        dA_prev, dW, db = linear_backward(dZ, linear_cache)\n",
    "    \n",
    "    return dA_prev, dW, db\n",
    "\n",
    "def compute_cost(AL, Y):\n",
    "    m = Y.shape[1]\n",
    "    cost = (1./m) * (-np.dot(Y,np.log(AL).T) - np.dot(1-Y, np.log(1-AL).T))\n",
    "    \n",
    "    cost = np.squeeze(cost)\n",
    "    assert(cost.shape == ())\n",
    "    \n",
    "    return cost\n",
    "\n",
    "\n",
    "def linear_forward(A, W, b):\n",
    "    Z = W.dot(A) + b\n",
    "    assert(Z.shape == (W.shape[0], A.shape[1]))\n",
    "    cache = (A, W, b)\n",
    "    \n",
    "    return Z, cache\n",
    "\n",
    "def linear_activation_forward(A_prev, W, b, activation):\n",
    "    if activation == \"sigmoid\":\n",
    "        Z, linear_cache = linear_forward(A_prev, W, b)\n",
    "        A, activation_cache = sigmoid_nn(Z)\n",
    "    \n",
    "    elif activation == \"relu\":\n",
    "        Z, linear_cache = linear_forward(A_prev, W, b)\n",
    "        A, activation_cache = relu(Z)\n",
    "    \n",
    "    assert (A.shape == (W.shape[0], A_prev.shape[1]))\n",
    "    cache = (linear_cache, activation_cache)\n",
    "\n",
    "    return A, cache\n",
    "\n",
    "\n",
    "def sigmoid_nn(Z):\n",
    "    A = 1/(1+np.exp(-Z))\n",
    "    cache = Z\n",
    "    return A, cache\n",
    "\n",
    "def relu(Z):\n",
    "    A = np.maximum(0,Z)\n",
    "    assert(A.shape == Z.shape)\n",
    "    cache = Z \n",
    "    return A, cache\n",
    "\n",
    "\n",
    "def relu_backward(dA, cache):\n",
    "    Z = cache\n",
    "    dZ = np.array(dA, copy=True) \n",
    "    dZ[Z <= 0] = 0\n",
    "    assert (dZ.shape == Z.shape)\n",
    "    return dZ\n",
    "\n",
    "def sigmoid_backward(dA, cache):\n",
    "    Z = cache\n",
    "    s = 1/(1+np.exp(-Z))\n",
    "    dZ = dA * s * (1-s)\n",
    "    assert (dZ.shape == Z.shape)\n",
    "    return dZ"
   ]
  },
  {
   "cell_type": "code",
   "execution_count": 13,
   "metadata": {},
   "outputs": [],
   "source": [
    "def initialize_parameters_deep(layer_dims):\n",
    "    \n",
    "    np.random.seed(1)\n",
    "    parameters = {}\n",
    "    L = len(layer_dims)\n",
    "\n",
    "    for l in range(1, L):\n",
    "        parameters['W' + str(l)] = np.random.randn(layer_dims[l], layer_dims[l-1]) * np.sqrt(1/layer_dims[l-1])\n",
    "        parameters['b' + str(l)] = np.zeros((layer_dims[l], 1))\n",
    "        \n",
    "        assert(parameters['W' + str(l)].shape == (layer_dims[l], layer_dims[l-1]))\n",
    "        assert(parameters['b' + str(l)].shape == (layer_dims[l], 1))\n",
    "\n",
    "    return parameters\n",
    "\n",
    "def L_model_forward(X, parameters):\n",
    "\n",
    "    caches = []\n",
    "    A = X\n",
    "    L = len(parameters) // 2 \n",
    "\n",
    "    for l in range(1, L):\n",
    "        A_prev = A\n",
    "        A, cache = linear_activation_forward(A_prev, parameters['W' + str(l)], parameters['b' + str(l)], activation='relu')\n",
    "\n",
    "        caches.append(cache)\n",
    "    \n",
    "    AL, cache = linear_activation_forward(A, parameters['W' + str(L)], parameters['b' + str(L)], activation='sigmoid')\n",
    "    caches.append(cache)\n",
    "    return AL, caches\n",
    "\n",
    "def L_model_backward(AL, Y, caches):\n",
    "    grads = {}\n",
    "    L = len(caches) \n",
    "    m = AL.shape[1]\n",
    "    Y = Y.reshape(AL.shape) \n",
    "    \n",
    "    dAL = - (np.divide(Y, AL) - np.divide(1 - Y, 1 - AL))\n",
    "    \n",
    "    current_cache = caches[L-1]\n",
    "    grads[\"dA\" + str(L)], grads[\"dW\" + str(L)], grads[\"db\" + str(L)] = linear_activation_backward(dAL, current_cache, activation='sigmoid')\n",
    "    \n",
    "    for l in reversed(range(L-1)):\n",
    "        current_cache = caches[l]\n",
    "        dA_prev_temp, dW_temp, db_temp = linear_activation_backward(grads[\"dA\" + str(l+2)], current_cache, activation='relu')\n",
    "        grads[\"dA\" + str(l + 1)] = dA_prev_temp\n",
    "        grads[\"dW\" + str(l + 1)] = dW_temp\n",
    "        grads[\"db\" + str(l + 1)] = db_temp\n",
    "\n",
    "    return grads\n",
    "\n",
    "def L_layer_model(X, Y, layers_dims, learning_rate = 0.0075, num_iterations = 3000, print_cost=False):\n",
    "    np.random.seed(1)\n",
    "    costs = []                         \n",
    "    parameters = initialize_parameters_deep(layers_dims)\n",
    "\n",
    "    for i in range(0, num_iterations):\n",
    "\n",
    "        AL, caches = L_model_forward(X, parameters)\n",
    "        cost = compute_cost(AL, Y)\n",
    "        grads = L_model_backward(AL, Y, caches)\n",
    "        parameters = update_parameters(parameters, grads, learning_rate)\n",
    "        \n",
    "        if print_cost and i % 100 == 0:\n",
    "            print (\"Cost after iteration %i: %f\" %(i, cost))\n",
    "        if print_cost and i % 100 == 0:\n",
    "            costs.append(cost)\n",
    "            \n",
    "    plt.plot(np.squeeze(costs))\n",
    "    plt.ylabel('cost')\n",
    "    plt.xlabel('iterations (per tens)')\n",
    "    plt.title(\"Learning rate =\" + str(learning_rate))\n",
    "    plt.show()\n",
    "    \n",
    "    return parameters\n",
    "\n",
    "def predict_nn(X, parameters):\n",
    "    probas, caches = L_model_forward(X, parameters)\n",
    "\n",
    "    p = np.around(probas)\n",
    "        \n",
    "    return p"
   ]
  },
  {
   "cell_type": "markdown",
   "metadata": {},
   "source": [
    "#### Training NN model with 8 and 15 nodes in first and second layers"
   ]
  },
  {
   "cell_type": "code",
   "execution_count": 14,
   "metadata": {},
   "outputs": [
    {
     "name": "stdout",
     "output_type": "stream",
     "text": [
      "Cost after iteration 0: 0.659334\n",
      "Cost after iteration 100: 0.368408\n",
      "Cost after iteration 200: 0.262234\n",
      "Cost after iteration 300: 0.208532\n",
      "Cost after iteration 400: 0.170345\n",
      "Cost after iteration 500: 0.145620\n",
      "Cost after iteration 600: 0.115264\n",
      "Cost after iteration 700: 0.089939\n",
      "Cost after iteration 800: 0.068380\n",
      "Cost after iteration 900: 0.055652\n",
      "Cost after iteration 1000: 0.045569\n",
      "Cost after iteration 1100: 0.037881\n",
      "Cost after iteration 1200: 0.032060\n",
      "Cost after iteration 1300: 0.027689\n",
      "Cost after iteration 1400: 0.024354\n",
      "Cost after iteration 1500: 0.021771\n",
      "Cost after iteration 1600: 0.019696\n",
      "Cost after iteration 1700: 0.018016\n",
      "Cost after iteration 1800: 0.016627\n",
      "Cost after iteration 1900: 0.015465\n",
      "Cost after iteration 2000: 0.014483\n",
      "Cost after iteration 2100: 0.013644\n",
      "Cost after iteration 2200: 0.012922\n",
      "Cost after iteration 2300: 0.012298\n",
      "Cost after iteration 2400: 0.011753\n",
      "Cost after iteration 2500: 0.011273\n",
      "Cost after iteration 2600: 0.010848\n",
      "Cost after iteration 2700: 0.010472\n",
      "Cost after iteration 2800: 0.010134\n",
      "Cost after iteration 2900: 0.009829\n"
     ]
    },
    {
     "data": {
      "image/png": "[encoded data removed]",
      "text/plain": [
       "<Figure size 432x288 with 1 Axes>"
      ]
     },
     "metadata": {
      "needs_background": "light"
     },
     "output_type": "display_data"
    }
   ],
   "source": [
    "layers_dims = [12288,8,15,1]\n",
    "# training the model for with the training set\n",
    "model_parameters = L_layer_model(train_set_x, train_set_y, layers_dims, num_iterations = 3000, print_cost = True)"
   ]
  },
  {
   "cell_type": "code",
   "execution_count": 16,
   "metadata": {},
   "outputs": [
    {
     "name": "stdout",
     "output_type": "stream",
     "text": [
      "Train Accuracy: 0.9922630560928436\n",
      "Dev Accuracy: 0.9360465116279069\n",
      "Test Accuracy: 0.9075144508670518\n"
     ]
    }
   ],
   "source": [
    "m_train = train_set_y.shape[1]\n",
    "predictions_train = predict_nn(train_set_x, model_parameters)\n",
    "print(\"Train Accuracy: \"  + str(np.sum((predictions_train == train_set_y)/m_train)))\n",
    "\n",
    "m_dev_test = dev_test_set_y.shape[1]\n",
    "predictions_test = predict_nn(dev_test_set_x, model_parameters)\n",
    "print(\"Dev Accuracy: \"  + str(np.sum((predictions_test == dev_test_set_y)/m_dev_test)))\n",
    "\n",
    "m_test = test_set_y.shape[1]\n",
    "predictions_test = predict_nn(test_set_x, model_parameters)\n",
    "print(\"Test Accuracy: \"  + str(np.sum((predictions_test == test_set_y)/m_test)))"
   ]
  },
  {
   "cell_type": "markdown",
   "metadata": {},
   "source": [
    "### 4.1 Logistic Regression Results\n",
    "\n",
    "Cost after 2000 iterations and learning rate 0.005 with Training set : 0.126441\n",
    "\n",
    "Accuracy (in percent) :\n",
    "<table>\n",
    "    <tr>\n",
    "    <td>**Train Accuracy**</td>\n",
    "    <td>97.48549323017409</td>\n",
    "    </tr>\n",
    "    <tr>\n",
    "    <td> **Dev Set Accuracy**</td>\n",
    "    <td> 91.86046511627907 </td>\n",
    "    </tr>\n",
    "    <tr>\n",
    "    <td> **Test Accuracy**</td>\n",
    "    <td> 89.59537572254335 </td>\n",
    "    </tr>\n",
    "</table>"
   ]
  },
  {
   "cell_type": "markdown",
   "metadata": {},
   "source": [
    "### 4.2 Deep NN Results\n",
    "\n",
    "Cost after 3000 iterations and learning rate 0.0075 with Training set : 0.0.009829\n",
    "\n",
    "Layer dimensions = [12288,8,15,1]\n",
    "\n",
    "Accuracy (in percent) :\n",
    "<table>\n",
    "    <tr>\n",
    "    <td>**Train Accuracy**</td>\n",
    "    <td>99.22630560928436</td>\n",
    "    </tr>\n",
    "    <tr>\n",
    "    <td> **Dev Set Accuracy**</td>\n",
    "    <td> 93.60465116279069 </td>\n",
    "    </tr>\n",
    "    <tr>\n",
    "    <td> **Test Accuracy**</td>\n",
    "    <td> 90.75144508670518 </td>\n",
    "    </tr>\n",
    "</table>"
   ]
  },
  {
   "cell_type": "code",
   "execution_count": null,
   "metadata": {},
   "outputs": [],
   "source": []
  }
 ],
 "metadata": {
  "kernelspec": {
   "display_name": "Python 3",
   "language": "python",
   "name": "python3"
  },
  "language_info": {
   "codemirror_mode": {
    "name": "ipython",
    "version": 3
   },
   "file_extension": ".py",
   "mimetype": "text/x-python",
   "name": "python",
   "nbconvert_exporter": "python",
   "pygments_lexer": "ipython3",
   "version": "3.7.2"
  }
 },
 "nbformat": 4,
 "nbformat_minor": 2
}
